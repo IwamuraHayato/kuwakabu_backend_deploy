{
 "cells": [
  {
   "cell_type": "code",
   "execution_count": 8,
   "metadata": {},
   "outputs": [
    {
     "name": "stdout",
     "output_type": "stream",
     "text": [
      "Collecting mysql-connector-python\n",
      "  Using cached mysql_connector_python-9.1.0-cp312-cp312-macosx_13_0_arm64.whl.metadata (6.0 kB)\n",
      "Using cached mysql_connector_python-9.1.0-cp312-cp312-macosx_13_0_arm64.whl (15.1 MB)\n",
      "Installing collected packages: mysql-connector-python\n",
      "Successfully installed mysql-connector-python-9.1.0\n",
      "\n",
      "\u001b[1m[\u001b[0m\u001b[34;49mnotice\u001b[0m\u001b[1;39;49m]\u001b[0m\u001b[39;49m A new release of pip is available: \u001b[0m\u001b[31;49m24.2\u001b[0m\u001b[39;49m -> \u001b[0m\u001b[32;49m24.3.1\u001b[0m\n",
      "\u001b[1m[\u001b[0m\u001b[34;49mnotice\u001b[0m\u001b[1;39;49m]\u001b[0m\u001b[39;49m To update, run: \u001b[0m\u001b[32;49mpip install --upgrade pip\u001b[0m\n",
      "Note: you may need to restart the kernel to use updated packages.\n"
     ]
    }
   ],
   "source": [
    "pip install mysql-connector-python"
   ]
  },
  {
   "cell_type": "code",
   "execution_count": 9,
   "metadata": {},
   "outputs": [],
   "source": [
    "import mysql.connector\n",
    "from mysql.connector import Error\n",
    "import pandas as pd"
   ]
  },
  {
   "cell_type": "code",
   "execution_count": 10,
   "metadata": {},
   "outputs": [],
   "source": [
    "# MySQL接続情報を設定\n",
    "host = 'kuwakabu-azure-mysql.mysql.database.azure.com'  # 例: 'localhost' または 'tech0-gen-8-step3-rdb-16.mysql.database.azure.com'\n",
    "user = 'kuwakabu0member'    # MySQLのユーザー名\n",
    "password = '_HKUeX6VJt' # MySQLのパスワード\n",
    "database = 'kuwakabu_db2' # 使用するデータベース名"
   ]
  },
  {
   "cell_type": "code",
   "execution_count": 11,
   "metadata": {},
   "outputs": [
    {
     "name": "stdout",
     "output_type": "stream",
     "text": [
      "MySQLに接続成功\n",
      "    id     name                         icon collection_start_at  \\\n",
      "0    6     がたろー  icon_images/user_id_006.jpg          2018-08-24   \n",
      "1   12    キャプテン  icon_images/user_id_012.jpg          2015-07-01   \n",
      "2   13       さけ  icon_images/user_id_013.jpg          2018-07-01   \n",
      "3   14     やまけい  icon_images/user_id_014.jpg          2009-07-18   \n",
      "4   15      りょー  icon_images/user_id_015.jpg          2016-04-19   \n",
      "5   16      こすけ  icon_images/user_id_016.jpg          2020-07-14   \n",
      "6   17      ジョー  icon_images/user_id_017.jpg          2024-06-15   \n",
      "7   31     TEST                         None          2024-12-17   \n",
      "8   32  テスト1217                         None          2024-12-10   \n",
      "9   33      いわむ  icon_images/user_id_033.jpg          2024-12-01   \n",
      "10  34       きん  icon_images/user_id_034.jpg          2019-08-15   \n",
      "11  35      テスト                         None          2024-12-18   \n",
      "12  36     クワマヨ                         None          2024-12-04   \n",
      "13  37     クワマヨ                         None          2024-12-04   \n",
      "14  38      テスト                         None          2024-12-09   \n",
      "\n",
      "            created_at          updated_at password  \n",
      "0  2024-12-06 18:28:39 2024-12-16 06:02:10     1234  \n",
      "1  2024-12-14 16:39:35 2024-12-16 06:02:10     1234  \n",
      "2  2024-12-15 09:07:45 2024-12-16 06:02:10     1234  \n",
      "3  2024-12-15 09:08:24 2024-12-16 06:02:10     1234  \n",
      "4  2024-12-15 09:09:26 2024-12-16 06:02:09     1234  \n",
      "5  2024-12-15 09:09:59 2024-12-16 06:02:09     1234  \n",
      "6  2024-12-15 09:10:27 2024-12-16 06:02:09     1234  \n",
      "7  2024-12-17 00:32:08 2024-12-17 00:32:08     1234  \n",
      "8  2024-12-17 00:57:29 2024-12-17 00:57:29     1234  \n",
      "9  2024-12-17 09:18:34 2024-12-17 13:55:08     1234  \n",
      "10 2024-12-17 13:50:56 2024-12-17 13:51:53     1234  \n",
      "11 2024-12-17 15:59:17 2024-12-17 15:59:17     1234  \n",
      "12 2024-12-18 10:32:23 2024-12-18 10:32:23     1234  \n",
      "13 2024-12-18 10:32:23 2024-12-18 10:32:23     1234  \n",
      "14 2024-12-22 01:00:07 2024-12-22 01:00:07     1234  \n",
      "MySQL接続を閉じました\n"
     ]
    }
   ],
   "source": [
    "try:\n",
    "    # MySQLに接続\n",
    "    connection = mysql.connector.connect(\n",
    "        host=host,\n",
    "        user=user,\n",
    "        password=password,\n",
    "        database=database\n",
    "    )\n",
    "    \n",
    "    if connection.is_connected():\n",
    "        print(\"MySQLに接続成功\")\n",
    "        \n",
    "        # クエリを実行してデータを取得\n",
    "        query = \"SELECT * FROM users;\"  # 例: 'users'\n",
    "        cursor = connection.cursor()\n",
    "        cursor.execute(query)\n",
    "        result = cursor.fetchall()\n",
    "        \n",
    "        # 結果をDataFrameに変換して表示\n",
    "        columns = [desc[0] for desc in cursor.description]\n",
    "        df = pd.DataFrame(result, columns=columns)\n",
    "        print(df)\n",
    "        \n",
    "except Error as e:\n",
    "    print(f\"エラー: {e}\")\n",
    "    \n",
    "finally:\n",
    "    # 接続を閉じる\n",
    "    if connection.is_connected():\n",
    "        cursor.close()\n",
    "        connection.close()\n",
    "        print(\"MySQL接続を閉じました\")\n"
   ]
  },
  {
   "cell_type": "markdown",
   "metadata": {},
   "source": [
    "#### CRUD操作のテスト"
   ]
  },
  {
   "cell_type": "code",
   "execution_count": 2,
   "metadata": {},
   "outputs": [
    {
     "name": "stdout",
     "output_type": "stream",
     "text": [
      "/Users/iwamurahayato/myproject/3-2_app_kuwakabu/backend/db_control\n"
     ]
    }
   ],
   "source": [
    "import os\n",
    "print(os.getcwd())"
   ]
  },
  {
   "cell_type": "code",
   "execution_count": 5,
   "metadata": {},
   "outputs": [
    {
     "name": "stdout",
     "output_type": "stream",
     "text": [
      "インポート成功\n"
     ]
    }
   ],
   "source": [
    "import os\n",
    "import sys\n",
    "\n",
    "# プロジェクトのルートディレクトリを設定\n",
    "project_root = \"/Users/iwamurahayato/myproject/3-2_app_kuwakabu\"\n",
    "os.chdir(project_root)  # カレントディレクトリをルートに変更\n",
    "\n",
    "# backendフォルダをPythonパスに追加\n",
    "sys.path.append(os.path.join(project_root, \"backend\"))\n",
    "\n",
    "# インポート\n",
    "from db_control.crud import myselectAll\n",
    "from db_control.mymodels import Users\n",
    "\n",
    "print(\"インポート成功\")"
   ]
  },
  {
   "cell_type": "code",
   "execution_count": 8,
   "metadata": {},
   "outputs": [
    {
     "name": "stdout",
     "output_type": "stream",
     "text": [
      "エラー: (pymysql.err.OperationalError) (3159, 'Connections using insecure transport are prohibited while --require_secure_transport=ON.')\n",
      "(Background on this error at: https://sqlalche.me/e/20/e3q8)\n",
      "None\n"
     ]
    }
   ],
   "source": [
    "# myselectAllの呼び出し\n",
    "try:\n",
    "    result = myselectAll(Users)\n",
    "    print(result)  # すべてのレコードがJSON形式で出力されれば成功\n",
    "except Exception as e:\n",
    "    print(f\"エラー: {e}\")"
   ]
  },
  {
   "cell_type": "code",
   "execution_count": 11,
   "metadata": {},
   "outputs": [
    {
     "name": "stdout",
     "output_type": "stream",
     "text": [
      "接続エラー: (pymysql.err.OperationalError) (3159, 'Connections using insecure transport are prohibited while --require_secure_transport=ON.')\n",
      "(Background on this error at: https://sqlalche.me/e/20/e3q8)\n"
     ]
    }
   ],
   "source": [
    "from sqlalchemy.orm import sessionmaker\n",
    "from sqlalchemy import text\n",
    "from db_control.connect import engine\n",
    "\n",
    "# テスト用セッション\n",
    "SessionLocal = sessionmaker(bind=engine)\n",
    "\n",
    "# テストクエリ\n",
    "try:\n",
    "    session = SessionLocal()\n",
    "    # 簡単なクエリを実行\n",
    "    result = session.execute(text(\"SELECT DATABASE();\")).fetchone()\n",
    "    print(f\"現在のデータベース: {result[0]}\")\n",
    "except Exception as e:\n",
    "    print(f\"接続エラー: {e}\")\n",
    "finally:\n",
    "    session.close()"
   ]
  }
 ],
 "metadata": {
  "kernelspec": {
   "display_name": ".venv",
   "language": "python",
   "name": "python3"
  },
  "language_info": {
   "codemirror_mode": {
    "name": "ipython",
    "version": 3
   },
   "file_extension": ".py",
   "mimetype": "text/x-python",
   "name": "python",
   "nbconvert_exporter": "python",
   "pygments_lexer": "ipython3",
   "version": "3.12.5"
  }
 },
 "nbformat": 4,
 "nbformat_minor": 2
}
