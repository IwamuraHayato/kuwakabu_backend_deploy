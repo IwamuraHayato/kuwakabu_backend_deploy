{
 "cells": [
  {
   "cell_type": "code",
   "execution_count": 1,
   "metadata": {},
   "outputs": [
    {
     "name": "stdout",
     "output_type": "stream",
     "text": [
      "Collecting mysql-connector-python\n",
      "  Downloading mysql_connector_python-9.1.0-cp312-cp312-macosx_13_0_arm64.whl.metadata (6.0 kB)\n",
      "Downloading mysql_connector_python-9.1.0-cp312-cp312-macosx_13_0_arm64.whl (15.1 MB)\n",
      "\u001b[2K   \u001b[90m━━━━━━━━━━━━━━━━━━━━━━━━━━━━━━━━━━━━━━━━\u001b[0m \u001b[32m15.1/15.1 MB\u001b[0m \u001b[31m773.7 kB/s\u001b[0m eta \u001b[36m0:00:00\u001b[0m00:01\u001b[0m00:01\u001b[0m\n",
      "\u001b[?25hInstalling collected packages: mysql-connector-python\n",
      "Successfully installed mysql-connector-python-9.1.0\n",
      "\n",
      "\u001b[1m[\u001b[0m\u001b[34;49mnotice\u001b[0m\u001b[1;39;49m]\u001b[0m\u001b[39;49m A new release of pip is available: \u001b[0m\u001b[31;49m24.2\u001b[0m\u001b[39;49m -> \u001b[0m\u001b[32;49m24.3.1\u001b[0m\n",
      "\u001b[1m[\u001b[0m\u001b[34;49mnotice\u001b[0m\u001b[1;39;49m]\u001b[0m\u001b[39;49m To update, run: \u001b[0m\u001b[32;49mpip install --upgrade pip\u001b[0m\n"
     ]
    }
   ],
   "source": [
    "!pip install mysql-connector-python"
   ]
  },
  {
   "cell_type": "code",
   "execution_count": 3,
   "metadata": {},
   "outputs": [],
   "source": [
    "import mysql.connector\n",
    "from mysql.connector import Error\n",
    "import pandas as pd"
   ]
  },
  {
   "cell_type": "code",
   "execution_count": 5,
   "metadata": {},
   "outputs": [],
   "source": [
    "# MySQL接続情報を設定\n",
    "host = 'tech0-gen-8-step3-rdb-16.mysql.database.azure.com'  # 例: 'localhost' または 'tech0-gen-8-step3-rdb-16.mysql.database.azure.com'\n",
    "user = 'tech0gen8student'    # MySQLのユーザー名\n",
    "password = '5iTbVNuqQu8z16' # MySQLのパスワード\n",
    "database = 'kuwakabu_db' # 使用するデータベース名"
   ]
  },
  {
   "cell_type": "code",
   "execution_count": 7,
   "metadata": {},
   "outputs": [
    {
     "name": "stdout",
     "output_type": "stream",
     "text": [
      "MySQLに接続成功\n",
      "   id    name  icon collection_start_at          created_at  \\\n",
      "0   1    test  None          2024-12-03 2024-12-04 01:13:37   \n",
      "1   2    そうすけ  None          2024-08-13 2024-12-04 01:14:14   \n",
      "2   3     テスト  None          2024-08-13 2024-12-04 20:56:15   \n",
      "3   4  hayato  None          2024-09-11 2024-12-04 21:17:19   \n",
      "4   5     jin  None          2024-12-03 2024-12-04 21:55:22   \n",
      "5   6    がたろー  None          2024-12-01 2024-12-06 18:28:39   \n",
      "\n",
      "           updated_at password  \n",
      "0 2024-12-04 01:13:37     1234  \n",
      "1 2024-12-04 01:14:14     1234  \n",
      "2 2024-12-04 20:56:15     1234  \n",
      "3 2024-12-04 21:17:19     1234  \n",
      "4 2024-12-04 21:55:22     1234  \n",
      "5 2024-12-06 18:28:39     1234  \n",
      "MySQL接続を閉じました\n"
     ]
    }
   ],
   "source": [
    "try:\n",
    "    # MySQLに接続\n",
    "    connection = mysql.connector.connect(\n",
    "        host=host,\n",
    "        user=user,\n",
    "        password=password,\n",
    "        database=database\n",
    "    )\n",
    "    \n",
    "    if connection.is_connected():\n",
    "        print(\"MySQLに接続成功\")\n",
    "        \n",
    "        # クエリを実行してデータを取得\n",
    "        query = \"SELECT * FROM users;\"  # 例: 'users'\n",
    "        cursor = connection.cursor()\n",
    "        cursor.execute(query)\n",
    "        result = cursor.fetchall()\n",
    "        \n",
    "        # 結果をDataFrameに変換して表示\n",
    "        columns = [desc[0] for desc in cursor.description]\n",
    "        df = pd.DataFrame(result, columns=columns)\n",
    "        print(df)\n",
    "        \n",
    "except Error as e:\n",
    "    print(f\"エラー: {e}\")\n",
    "    \n",
    "finally:\n",
    "    # 接続を閉じる\n",
    "    if connection.is_connected():\n",
    "        cursor.close()\n",
    "        connection.close()\n",
    "        print(\"MySQL接続を閉じました\")\n"
   ]
  },
  {
   "cell_type": "markdown",
   "metadata": {},
   "source": [
    "#### CRUD操作のテスト"
   ]
  },
  {
   "cell_type": "code",
   "execution_count": 2,
   "metadata": {},
   "outputs": [
    {
     "name": "stdout",
     "output_type": "stream",
     "text": [
      "/Users/iwamurahayato/myproject/3-2_app_kuwakabu/backend/db_control\n"
     ]
    }
   ],
   "source": [
    "import os\n",
    "print(os.getcwd())"
   ]
  },
  {
   "cell_type": "code",
   "execution_count": 5,
   "metadata": {},
   "outputs": [
    {
     "name": "stdout",
     "output_type": "stream",
     "text": [
      "インポート成功\n"
     ]
    }
   ],
   "source": [
    "import os\n",
    "import sys\n",
    "\n",
    "# プロジェクトのルートディレクトリを設定\n",
    "project_root = \"/Users/iwamurahayato/myproject/3-2_app_kuwakabu\"\n",
    "os.chdir(project_root)  # カレントディレクトリをルートに変更\n",
    "\n",
    "# backendフォルダをPythonパスに追加\n",
    "sys.path.append(os.path.join(project_root, \"backend\"))\n",
    "\n",
    "# インポート\n",
    "from db_control.crud import myselectAll\n",
    "from db_control.mymodels import Users\n",
    "\n",
    "print(\"インポート成功\")"
   ]
  },
  {
   "cell_type": "code",
   "execution_count": 8,
   "metadata": {},
   "outputs": [
    {
     "name": "stdout",
     "output_type": "stream",
     "text": [
      "エラー: (pymysql.err.OperationalError) (3159, 'Connections using insecure transport are prohibited while --require_secure_transport=ON.')\n",
      "(Background on this error at: https://sqlalche.me/e/20/e3q8)\n",
      "None\n"
     ]
    }
   ],
   "source": [
    "# myselectAllの呼び出し\n",
    "try:\n",
    "    result = myselectAll(Users)\n",
    "    print(result)  # すべてのレコードがJSON形式で出力されれば成功\n",
    "except Exception as e:\n",
    "    print(f\"エラー: {e}\")"
   ]
  },
  {
   "cell_type": "code",
   "execution_count": 11,
   "metadata": {},
   "outputs": [
    {
     "name": "stdout",
     "output_type": "stream",
     "text": [
      "接続エラー: (pymysql.err.OperationalError) (3159, 'Connections using insecure transport are prohibited while --require_secure_transport=ON.')\n",
      "(Background on this error at: https://sqlalche.me/e/20/e3q8)\n"
     ]
    }
   ],
   "source": [
    "from sqlalchemy.orm import sessionmaker\n",
    "from sqlalchemy import text\n",
    "from db_control.connect import engine\n",
    "\n",
    "# テスト用セッション\n",
    "SessionLocal = sessionmaker(bind=engine)\n",
    "\n",
    "# テストクエリ\n",
    "try:\n",
    "    session = SessionLocal()\n",
    "    # 簡単なクエリを実行\n",
    "    result = session.execute(text(\"SELECT DATABASE();\")).fetchone()\n",
    "    print(f\"現在のデータベース: {result[0]}\")\n",
    "except Exception as e:\n",
    "    print(f\"接続エラー: {e}\")\n",
    "finally:\n",
    "    session.close()"
   ]
  }
 ],
 "metadata": {
  "kernelspec": {
   "display_name": ".venv",
   "language": "python",
   "name": "python3"
  },
  "language_info": {
   "codemirror_mode": {
    "name": "ipython",
    "version": 3
   },
   "file_extension": ".py",
   "mimetype": "text/x-python",
   "name": "python",
   "nbconvert_exporter": "python",
   "pygments_lexer": "ipython3",
   "version": "3.12.8"
  }
 },
 "nbformat": 4,
 "nbformat_minor": 2
}
